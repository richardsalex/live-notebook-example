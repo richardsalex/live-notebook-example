{
 "cells": [
  {
   "cell_type": "code",
   "execution_count": null,
   "metadata": {},
   "outputs": [],
   "source": [
    "import requests\n",
    "\n",
    "url = \"http://www.espn.com/nfl/statistics/player/_/stat/passing/sort/passingYards/qualified/false\"\n",
    "r = requests.get(url)"
   ]
  },
  {
   "cell_type": "code",
   "execution_count": null,
   "metadata": {},
   "outputs": [],
   "source": [
    "from bs4 import BeautifulSoup\n",
    "\n",
    "tree = BeautifulSoup(r.text, 'html.parser')"
   ]
  },
  {
   "cell_type": "code",
   "execution_count": null,
   "metadata": {},
   "outputs": [],
   "source": [
    "stats_table = tree.find('table')"
   ]
  },
  {
   "cell_type": "code",
   "execution_count": null,
   "metadata": {},
   "outputs": [],
   "source": [
    "for row in stats_table.find_all('tr'):\n",
    "    cells = row.find_all('td')\n",
    "    player = cells[1].text\n",
    "    team = cells[2].text\n",
    "    yards = cells[6].text\n",
    "    if player != 'PLAYER':\n",
    "        print('\\t'.join([player, team, yards]))"
   ]
  },
  {
   "cell_type": "code",
   "execution_count": null,
   "metadata": {},
   "outputs": [],
   "source": [
    "def get_stats(url):\n",
    "    r = requests.get(url)\n",
    "    tree = BeautifulSoup(r.text, 'html.parser')\n",
    "    stats_table = tree.find('table')\n",
    "    for row in stats_table.find_all('tr'):\n",
    "        cells = row.find_all('td')\n",
    "        player = cells[1].text\n",
    "        team = cells[2].text\n",
    "        yards = cells[6].text\n",
    "        if player != 'PLAYER':\n",
    "            print('\\t'.join([player, team, yards]))"
   ]
  },
  {
   "cell_type": "code",
   "execution_count": null,
   "metadata": {},
   "outputs": [],
   "source": [
    "get_stats(\"http://www.espn.com/nfl/statistics/player/_/stat/passing/sort/passingYards/qualified/false/count/41\")"
   ]
  },
  {
   "cell_type": "code",
   "execution_count": null,
   "metadata": {},
   "outputs": [],
   "source": []
  }
 ],
 "metadata": {
  "kernelspec": {
   "display_name": "Python 3",
   "language": "python",
   "name": "python3"
  },
  "language_info": {
   "codemirror_mode": {
    "name": "ipython",
    "version": 3
   },
   "file_extension": ".py",
   "mimetype": "text/x-python",
   "name": "python",
   "nbconvert_exporter": "python",
   "pygments_lexer": "ipython3",
   "version": "3.7.2"
  }
 },
 "nbformat": 4,
 "nbformat_minor": 2
}
