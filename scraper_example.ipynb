{
 "cells": [
  {
   "cell_type": "markdown",
   "metadata": {},
   "source": [
    "**Go get a web page.**\n",
    "\n",
    "[Texas death row inmates](https://www.tdcj.texas.gov/death_row/dr_offenders_on_dr.html)"
   ]
  },
  {
   "cell_type": "code",
   "execution_count": null,
   "metadata": {},
   "outputs": [],
   "source": [
    "import requests # Python module that can fetch HTML \n",
    "\n",
    "url = \"https://www.tdcj.texas.gov/death_row/dr_offenders_on_dr.html\" # URL for the site we want\n",
    "r = requests.get(url) # Go get it"
   ]
  },
  {
   "cell_type": "markdown",
   "metadata": {},
   "source": [
    "**Turn the contents of the web page into something you can maneuver through.**"
   ]
  },
  {
   "cell_type": "code",
   "execution_count": null,
   "metadata": {},
   "outputs": [],
   "source": [
    "from bs4 import BeautifulSoup # Python module that can make sense of HTML\n",
    "\n",
    "tree = BeautifulSoup(r.text, 'html.parser') # Make the page into a navigable \"tree\" of HTML tags\n",
    "dr_tbl = tree.find('table')                 # Isolate the first <table> it can find"
   ]
  },
  {
   "cell_type": "markdown",
   "metadata": {},
   "source": [
    "**Pluck out the data elements you want.**"
   ]
  },
  {
   "cell_type": "code",
   "execution_count": null,
   "metadata": {},
   "outputs": [],
   "source": [
    "data = [] # A place to stash scraped data\n",
    "\n",
    "for row in dr_tbl.find_all('tr')[1:]: # Go through the table, row by row (but skip the first one)\n",
    "    cells = row.find_all('td')        # Make cells in each row their own list\n",
    "    row_hold = []                     # A place to keep what we're getting from cells\n",
    "    for item in cells[2:]:            # Skip the first two cells, get everything else\n",
    "        row_hold.append(item.text)\n",
    "    data.append(row_hold)             # Build up a list of lists (rows) to write to csv"
   ]
  },
  {
   "cell_type": "markdown",
   "metadata": {},
   "source": [
    "**(Make sure you got what you wanted.)**"
   ]
  },
  {
   "cell_type": "code",
   "execution_count": null,
   "metadata": {},
   "outputs": [],
   "source": [
    "print(data) # Display everything saved in \"data\""
   ]
  },
  {
   "cell_type": "code",
   "execution_count": null,
   "metadata": {},
   "outputs": [],
   "source": [
    "for row in data:          # For each row (list) in \"data\" ...\n",
    "    print(', '.join(row)) # ... display it with a comma and space between items for readability"
   ]
  },
  {
   "cell_type": "markdown",
   "metadata": {},
   "source": [
    "**Save it to a common format, like CSV.**"
   ]
  },
  {
   "cell_type": "code",
   "execution_count": null,
   "metadata": {},
   "outputs": [],
   "source": [
    "import csv # Python module that can read and write delimited text files\n",
    "\n",
    "with open(\"scrape.csv\", \"w\", newline = \"\") as saved_data:  # Create a file and open it\n",
    "    w = csv.writer(saved_data)                             # Prepare to write data to the file\n",
    "                                                           # We need a header row\n",
    "    w.writerow([\"Last name\", \"First name\", \"DOB\", \"Gender\", \"Race/ethnicity\", \"Date received\", \"County\", \"Offense date\"])\n",
    "    w.writerows(data)                                      # Write everything in \"data\" to the new file"
   ]
  }
 ],
 "metadata": {
  "kernelspec": {
   "display_name": "Python 3",
   "language": "python",
   "name": "python3"
  },
  "language_info": {
   "codemirror_mode": {
    "name": "ipython",
    "version": 3
   },
   "file_extension": ".py",
   "mimetype": "text/x-python",
   "name": "python",
   "nbconvert_exporter": "python",
   "pygments_lexer": "ipython3",
   "version": "3.8.1"
  }
 },
 "nbformat": 4,
 "nbformat_minor": 2
}
