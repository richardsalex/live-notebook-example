{
 "cells": [
  {
   "cell_type": "markdown",
   "metadata": {},
   "source": [
    "**Go get a web page.**"
   ]
  },
  {
   "cell_type": "code",
   "execution_count": null,
   "metadata": {},
   "outputs": [],
   "source": [
    "import requests # Python module that can fetch HTML \n",
    "\n",
    "url = \"http://www.espn.com/nfl/statistics/player/_/stat/passing/sort/passingYards/qualified/false\" # URL for the site we want\n",
    "r = requests.get(url) # Go get it"
   ]
  },
  {
   "cell_type": "markdown",
   "metadata": {},
   "source": [
    "**Turn the contents of the web page into something you can maneuver through.**"
   ]
  },
  {
   "cell_type": "code",
   "execution_count": null,
   "metadata": {},
   "outputs": [],
   "source": [
    "from bs4 import BeautifulSoup # Python module that can make sense of HTML\n",
    "\n",
    "tree = BeautifulSoup(r.text, 'html.parser') # Make the page into a navigable \"tree\" of HTML tags\n",
    "stats_table = tree.find('table')            # Isolate the first <table> it can find"
   ]
  },
  {
   "cell_type": "markdown",
   "metadata": {},
   "source": [
    "**Pluck out the data elements you want.**"
   ]
  },
  {
   "cell_type": "code",
   "execution_count": null,
   "metadata": {},
   "outputs": [],
   "source": [
    "data = [] # A place to stash scraped data\n",
    "\n",
    "for row in stats_table.find_all('tr'):     # Go through the table, row by row\n",
    "    cells = row.find_all('td')             # Treat the individual cells in each row like a list of items\n",
    "    player = cells[1].text                 # Collect the player's name\n",
    "    team = cells[2].text                   # Collect the team name\n",
    "    yards = cells[6].text                  # Collect the total number of passing yards\n",
    "    if player != 'PLAYER':                 # Skip collection if it's a table header\n",
    "        data.append([player, team, yards]) # Save the individual data elements from the row"
   ]
  },
  {
   "cell_type": "markdown",
   "metadata": {},
   "source": [
    "**(Make sure you got what you wanted.)**"
   ]
  },
  {
   "cell_type": "code",
   "execution_count": null,
   "metadata": {},
   "outputs": [],
   "source": [
    "print(data) # Display everything saved in \"data\""
   ]
  },
  {
   "cell_type": "code",
   "execution_count": null,
   "metadata": {},
   "outputs": [],
   "source": [
    "for row in data:          # For each row (list) in \"data\" ...\n",
    "    print(', '.join(row)) # ... display it with a comma and space between items for readability"
   ]
  },
  {
   "cell_type": "markdown",
   "metadata": {},
   "source": [
    "**Save it to a common format, like CSV.**"
   ]
  },
  {
   "cell_type": "code",
   "execution_count": null,
   "metadata": {},
   "outputs": [],
   "source": [
    "import csv # Python module that can read and write delimited text files\n",
    "\n",
    "with open(\"scrape.csv\", \"w\", newline = \"\") as saved_data:                 # Create a file and open it\n",
    "    w = csv.writer(saved_data)                                            # Prepare to write data to the file\n",
    "    w.writerow([\"Player name / position\", \"Team\", \"Total passing yards\"]) # Write the first row: column names\n",
    "    w.writerows(data)                                                     # Write everything in \"data\" to the new file"
   ]
  }
 ],
 "metadata": {
  "kernelspec": {
   "display_name": "Python 3",
   "language": "python",
   "name": "python3"
  },
  "language_info": {
   "codemirror_mode": {
    "name": "ipython",
    "version": 3
   },
   "file_extension": ".py",
   "mimetype": "text/x-python",
   "name": "python",
   "nbconvert_exporter": "python",
   "pygments_lexer": "ipython3",
   "version": "3.7.2"
  }
 },
 "nbformat": 4,
 "nbformat_minor": 2
}
